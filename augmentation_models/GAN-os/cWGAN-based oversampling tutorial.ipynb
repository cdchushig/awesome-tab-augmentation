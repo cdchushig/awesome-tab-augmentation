{
 "cells": [
  {
   "cell_type": "code",
   "execution_count": 8,
   "metadata": {
    "scrolled": false
   },
   "outputs": [],
   "source": [
    "from sklearn.model_selection import train_test_split\n",
    "from sklearn.pipeline import make_pipeline\n",
    "from sklearn.preprocessing import MinMaxScaler, OneHotEncoder\n",
    "from sklearn.impute import SimpleImputer\n",
    "from sklearn.compose import ColumnTransformer\n",
    "from sklearn.ensemble import RandomForestClassifier\n",
    "from sklearn.metrics import roc_auc_score\n",
    "\n",
    "from dataloader import load_data\n",
    "from helpers import get_cat_dims\n",
    "\n",
    "from models import WGANGP\n",
    "\n",
    "import pandas as pd\n",
    "from matplotlib import pyplot as plt\n",
    "import numpy as np\n",
    "from imblearn.over_sampling import SMOTE\n",
    "\n",
    "\n",
    "import logging\n",
    "logging.getLogger().setLevel(logging.INFO)"
   ]
  },
  {
   "cell_type": "code",
   "execution_count": 14,
   "metadata": {},
   "outputs": [],
   "source": [
    "prima_df = pd.read_csv('/home/crespo99/Desktop/repos/awesome-tab-augmentation/data/diabetes.csv')\n",
    "prima_label = prima_df[[\"Outcome\"]]\n",
    "prima_df = prima_df.drop(columns=[\"Outcome\"])\n",
    "\n",
    "X = prima_df\n",
    "y = prima_label\n",
    "\n",
    "num_cols = X.select_dtypes(include='number').columns\n",
    "cat_cols = X.select_dtypes(include='object').columns\n",
    "\n",
    "# train test split\n",
    "X_train, X_test, y_train, y_test = train_test_split(X, y, test_size=0.25, random_state=2020)\n",
    "cat_dims = get_cat_dims(X_train, cat_cols)\n",
    "\n",
    "# preprocess data\n",
    "num_prep = make_pipeline(SimpleImputer(strategy='mean'),\n",
    "                         MinMaxScaler())\n",
    "cat_prep = make_pipeline(SimpleImputer(strategy='most_frequent'),\n",
    "                         OneHotEncoder(handle_unknown='ignore'))\n",
    "prep = ColumnTransformer([\n",
    "    ('num', num_prep, num_cols),\n",
    "    ('cat', cat_prep, cat_cols)],\n",
    "    remainder='drop')\n",
    "X_train_trans = prep.fit_transform(X_train)\n",
    "X_test_trans = prep.transform(X_test)\n",
    "\n",
    "gan = WGANGP(write_to_disk=True, # whether to create an output folder. Plotting will be surpressed if flase\n",
    "            compute_metrics_every=100, print_every=200, plot_every=1000,\n",
    "            num_cols = num_cols, cat_dims=cat_dims,\n",
    "            # pass the one hot encoder to the GAN to enable count plots of categorical variables\n",
    "            transformer=prep.named_transformers_['cat']['onehotencoder'],\n",
    "            # pass column names to enable\n",
    "            cat_cols=cat_cols,\n",
    "            use_aux_classifier_loss=True,\n",
    "            d_updates_per_g=3, gp_weight=15)"
   ]
  },
  {
   "cell_type": "code",
   "execution_count": null,
   "metadata": {},
   "outputs": [],
   "source": [
    "gan.fit(X_train_trans, y=y_train.values, \n",
    "        condition=True,\n",
    "        epochs=100,  \n",
    "        batch_size=8,\n",
    "        netG_kwargs = {'hidden_layer_sizes': (32,16), \n",
    "                        'n_cross_layers': 2,\n",
    "                        'cat_activation': 'gumbel_softmax',\n",
    "                        'num_activation': 'none',\n",
    "                        'condition_num_on_cat': False, \n",
    "                        'noise_dim': 12, \n",
    "                        'normal_noise': False,\n",
    "                        'activation':  'leaky_relu',\n",
    "                        'reduce_cat_dim': True,\n",
    "                        'use_num_hidden_layer': True,\n",
    "                        'layer_norm':False,},\n",
    "        netD_kwargs = {'hidden_layer_sizes': (64,32,16),\n",
    "                        'n_cross_layers': 2,\n",
    "                        'embedding_dims': 'auto',\n",
    "                        'activation':  'leaky_relu',\n",
    "                        'sigmoid_activation': False,\n",
    "                        'noisy_num_cols': True,\n",
    "                        'layer_norm':True,}\n",
    "       )"
   ]
  },
  {
   "cell_type": "code",
   "execution_count": null,
   "metadata": {},
   "outputs": [],
   "source": [
    "y_train_arr = np.array(y_train).flatten()\n",
    "X_res, y_res = gan.resample(X_train_trans, y=y_train_arr)\n",
    "print(f'Original imbalance ratio was:{y_train_arr.mean():.2f}\\nAfter resampling it is:{y_res.mean():.2f}')\n",
    "\n",
    "X_test_trans = prep.transform(X_test)\n",
    "clf = RandomForestClassifier(n_estimators=500, min_samples_leaf=1, max_features='sqrt', bootstrap=True,\n",
    "                             random_state=2020, n_jobs=2)\n",
    "    \n",
    "clf.fit(X_res, y_res)\n",
    "preds_oversampled = clf.predict_proba(X_test_trans)[:,1]\n",
    "\n",
    "clf.fit(X_train_trans, y_train_arr)\n",
    "preds_imbalanced = clf.predict_proba(X_test_trans)[:,1]\n",
    "\n",
    "print(f'AUC-ROC Random Forest:\\n'\n",
    "      f'Balanced data:\\t\\t{roc_auc_score(y_test, preds_oversampled):.4f}\\n'\n",
    "      f'Imbalanced data:\\t{roc_auc_score(y_test, preds_imbalanced):.4f}')"
   ]
  },
  {
   "cell_type": "code",
   "execution_count": null,
   "metadata": {},
   "outputs": [],
   "source": [
    "smote = SMOTE(random_state=42)\n",
    "X_train_res, y_train_res = smote.fit_resample(X_train_trans, y_train)\n",
    "\n",
    "X_test_trans = prep.transform(X_test)\n",
    "clf = RandomForestClassifier(n_estimators=500, min_samples_leaf=1, max_features='sqrt', bootstrap=True,\n",
    "                             random_state=2020, n_jobs=2)\n",
    "    \n",
    "clf.fit(X_train_res, y_train_res)\n",
    "preds_oversampled = clf.predict_proba(X_test_trans)[:,1]\n",
    "\n",
    "clf.fit(X_train_trans, y_train)\n",
    "preds_imbalanced = clf.predict_proba(X_test_trans)[:,1]\n",
    "\n",
    "print(f'AUC-ROC Random Forest:\\n'\n",
    "      f'Balanced data:\\t\\t{roc_auc_score(y_test, preds_oversampled):.4f}\\n'\n",
    "      f'Imbalanced data:\\t{roc_auc_score(y_test, preds_imbalanced):.4f}')\n",
    "\n",
    "print(f'accuracy balanced: {np.mean((preds_oversampled>0.5) == y_test.values.flatten())}')\n",
    "print(f'accuracy imbalanced: {np.mean((preds_imbalanced>0.5) == y_test.values.flatten())}')"
   ]
  },
  {
   "cell_type": "code",
   "execution_count": null,
   "metadata": {},
   "outputs": [],
   "source": [
    "clf = RandomForestClassifier(n_estimators=500, min_samples_leaf=1, max_features='sqrt', bootstrap=True,\n",
    "                             random_state=2020, n_jobs=2)\n",
    "\n",
    "clf.fit(X_train_trans, y_train_arr)\n",
    "preds_imbalanced = clf.predict_proba(X_test_trans)[:,1]\n",
    "\n",
    "print(f'AUC-ROC Random Forest:\\n'\n",
    "      f'Imbalanced data:\\t{roc_auc_score(y_test, preds_imbalanced):.4f}')\n",
    "from sklearn.metrics import f1_score\n",
    "\n",
    "f1_score(y_test, preds_imbalanced>0.5)"
   ]
  },
  {
   "cell_type": "code",
   "execution_count": null,
   "metadata": {},
   "outputs": [],
   "source": [
    "preds_oversampled"
   ]
  },
  {
   "cell_type": "code",
   "execution_count": null,
   "metadata": {},
   "outputs": [],
   "source": [
    "preds_imbalanced"
   ]
  }
 ],
 "metadata": {
  "kernelspec": {
   "display_name": "Python 3",
   "language": "python",
   "name": "python3"
  },
  "language_info": {
   "codemirror_mode": {
    "name": "ipython",
    "version": 3
   },
   "file_extension": ".py",
   "mimetype": "text/x-python",
   "name": "python",
   "nbconvert_exporter": "python",
   "pygments_lexer": "ipython3",
   "version": "3.12.4"
  }
 },
 "nbformat": 4,
 "nbformat_minor": 4
}
