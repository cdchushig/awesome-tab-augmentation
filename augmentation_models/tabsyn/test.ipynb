{
 "cells": [
  {
   "cell_type": "code",
   "execution_count": 24,
   "metadata": {},
   "outputs": [
    {
     "name": "stdout",
     "output_type": "stream",
     "text": [
      "No NaNs in numerical features, skipping\n",
      "self.category_embeddings.weight.shape=torch.Size([104, 4])\n"
     ]
    },
    {
     "name": "stderr",
     "output_type": "stream",
     "text": [
      "/tmp/ipykernel_3343690/3128044824.py:39: FutureWarning: You are using `torch.load` with `weights_only=False` (the current default value), which uses the default pickle module implicitly. It is possible to construct malicious pickle data which will execute arbitrary code during unpickling (See https://github.com/pytorch/pytorch/blob/main/SECURITY.md#untrusted-models for more details). In a future release, the default value for `weights_only` will be flipped to `True`. This limits the functions that could be executed during unpickling. Arbitrary objects will no longer be allowed to be loaded via this mode unless they are explicitly allowlisted by the user via `torch.serialization.add_safe_globals`. We recommend you start setting `weights_only=True` for any use case where you don't have full control of the loaded file. Please open an issue on GitHub for any issues related to this experimental feature.\n",
      "  pre_encoder.load_state_dict(torch.load('/home/pcrespo/repos/tabsyn/tabsyn/vae/ckpt/adult/encoder.pt', map_location=device))\n",
      "/tmp/ipykernel_3343690/3128044824.py:41: FutureWarning: You are using `torch.load` with `weights_only=False` (the current default value), which uses the default pickle module implicitly. It is possible to construct malicious pickle data which will execute arbitrary code during unpickling (See https://github.com/pytorch/pytorch/blob/main/SECURITY.md#untrusted-models for more details). In a future release, the default value for `weights_only` will be flipped to `True`. This limits the functions that could be executed during unpickling. Arbitrary objects will no longer be allowed to be loaded via this mode unless they are explicitly allowlisted by the user via `torch.serialization.add_safe_globals`. We recommend you start setting `weights_only=True` for any use case where you don't have full control of the loaded file. Please open an issue on GitHub for any issues related to this experimental feature.\n",
      "  pre_decoder.load_state_dict(torch.load('/home/pcrespo/repos/tabsyn/tabsyn/vae/ckpt/adult/decoder.pt', map_location=device))\n"
     ]
    },
    {
     "data": {
      "text/plain": [
       "Decoder_model(\n",
       "  (VAE_Decoder): Transformer(\n",
       "    (layers): ModuleList(\n",
       "      (0): ModuleDict(\n",
       "        (attention): MultiheadAttention(\n",
       "          (W_q): Linear(in_features=4, out_features=4, bias=True)\n",
       "          (W_k): Linear(in_features=4, out_features=4, bias=True)\n",
       "          (W_v): Linear(in_features=4, out_features=4, bias=True)\n",
       "        )\n",
       "        (linear0): Linear(in_features=4, out_features=128, bias=True)\n",
       "        (linear1): Linear(in_features=128, out_features=4, bias=True)\n",
       "        (norm1): LayerNorm((4,), eps=1e-05, elementwise_affine=True)\n",
       "      )\n",
       "      (1): ModuleDict(\n",
       "        (attention): MultiheadAttention(\n",
       "          (W_q): Linear(in_features=4, out_features=4, bias=True)\n",
       "          (W_k): Linear(in_features=4, out_features=4, bias=True)\n",
       "          (W_v): Linear(in_features=4, out_features=4, bias=True)\n",
       "        )\n",
       "        (linear0): Linear(in_features=4, out_features=128, bias=True)\n",
       "        (linear1): Linear(in_features=128, out_features=4, bias=True)\n",
       "        (norm1): LayerNorm((4,), eps=1e-05, elementwise_affine=True)\n",
       "        (norm0): LayerNorm((4,), eps=1e-05, elementwise_affine=True)\n",
       "      )\n",
       "    )\n",
       "    (activation): ReLU()\n",
       "    (last_activation): ReLU()\n",
       "    (last_normalization): LayerNorm((4,), eps=1e-05, elementwise_affine=True)\n",
       "    (head): Linear(in_features=4, out_features=4, bias=True)\n",
       "  )\n",
       "  (Detokenizer): Reconstructor(\n",
       "    (cat_recons): ModuleList(\n",
       "      (0): Linear(in_features=4, out_features=2, bias=True)\n",
       "      (1): Linear(in_features=4, out_features=9, bias=True)\n",
       "      (2): Linear(in_features=4, out_features=16, bias=True)\n",
       "      (3): Linear(in_features=4, out_features=7, bias=True)\n",
       "      (4): Linear(in_features=4, out_features=15, bias=True)\n",
       "      (5): Linear(in_features=4, out_features=6, bias=True)\n",
       "      (6): Linear(in_features=4, out_features=5, bias=True)\n",
       "      (7): Linear(in_features=4, out_features=2, bias=True)\n",
       "      (8): Linear(in_features=4, out_features=42, bias=True)\n",
       "    )\n",
       "  )\n",
       ")"
      ]
     },
     "execution_count": 24,
     "metadata": {},
     "output_type": "execute_result"
    }
   ],
   "source": [
    "import torch\n",
    "from vae.model import Encoder_model, Decoder_model\n",
    "import matplotlib.pyplot as plt\n",
    "import sys\n",
    "import os\n",
    "import json\n",
    "\n",
    "sys.path.append('/home/pcrespo/repos/tabsyn')\n",
    "from utils_train import *\n",
    "\n",
    "device = torch.device('cuda' if torch.cuda.is_available() else 'cpu')\n",
    "\n",
    "data_dir = '/home/pcrespo/repos/tabsyn/data/adult'\n",
    "info_path = f'{data_dir}/info.json'\n",
    "\n",
    "with open(info_path, 'r') as f:\n",
    "    info = json.load(f)\n",
    "\n",
    "X_num, X_cat, categories, d_numerical = preprocess(data_dir, task_type = info['task_type'])\n",
    "\n",
    "X_train_num, _ = X_num\n",
    "X_train_cat, _ = X_cat\n",
    "\n",
    "X_train_num, X_test_num = X_num\n",
    "X_train_cat, X_test_cat = X_cat\n",
    "\n",
    "X_train_num, X_test_num = torch.tensor(X_train_num).float(), torch.tensor(X_test_num).float()\n",
    "X_train_cat, X_test_cat =  torch.tensor(X_train_cat), torch.tensor(X_test_cat)\n",
    "\n",
    "# Set the parameters\n",
    "num_layers = 2              \n",
    "d_token = 4                 \n",
    "n_head = 1                  \n",
    "factor = 32\n",
    "\n",
    "pre_encoder = Encoder_model(num_layers, d_numerical, categories, d_token, n_head = n_head, factor = factor).to(device)\n",
    "pre_decoder = Decoder_model(num_layers, d_numerical, categories, d_token, n_head = n_head, factor = factor).to(device)\n",
    "\n",
    "pre_encoder.load_state_dict(torch.load('/home/pcrespo/repos/tabsyn/tabsyn/vae/ckpt/adult/encoder.pt', map_location=device))\n",
    "pre_encoder.eval()\n",
    "pre_decoder.load_state_dict(torch.load('/home/pcrespo/repos/tabsyn/tabsyn/vae/ckpt/adult/decoder.pt', map_location=device))\n",
    "pre_decoder.eval()\n"
   ]
  },
  {
   "cell_type": "code",
   "execution_count": 31,
   "metadata": {},
   "outputs": [
    {
     "name": "stdout",
     "output_type": "stream",
     "text": [
      "self.category_embeddings.weight.shape=torch.Size([104, 4])\n"
     ]
    },
    {
     "name": "stderr",
     "output_type": "stream",
     "text": [
      "/tmp/ipykernel_3343690/324076232.py:6: FutureWarning: You are using `torch.load` with `weights_only=False` (the current default value), which uses the default pickle module implicitly. It is possible to construct malicious pickle data which will execute arbitrary code during unpickling (See https://github.com/pytorch/pytorch/blob/main/SECURITY.md#untrusted-models for more details). In a future release, the default value for `weights_only` will be flipped to `True`. This limits the functions that could be executed during unpickling. Arbitrary objects will no longer be allowed to be loaded via this mode unless they are explicitly allowlisted by the user via `torch.serialization.add_safe_globals`. We recommend you start setting `weights_only=True` for any use case where you don't have full control of the loaded file. Please open an issue on GitHub for any issues related to this experimental feature.\n",
      "  model.load_state_dict(torch.load(model_path, map_location=device))\n"
     ]
    },
    {
     "data": {
      "text/plain": [
       "Model_VAE(\n",
       "  (VAE): VAE(\n",
       "    (Tokenizer): Tokenizer(\n",
       "      (category_embeddings): Embedding(104, 4)\n",
       "    )\n",
       "    (encoder_mu): Transformer(\n",
       "      (layers): ModuleList(\n",
       "        (0): ModuleDict(\n",
       "          (attention): MultiheadAttention(\n",
       "            (W_q): Linear(in_features=4, out_features=4, bias=True)\n",
       "            (W_k): Linear(in_features=4, out_features=4, bias=True)\n",
       "            (W_v): Linear(in_features=4, out_features=4, bias=True)\n",
       "          )\n",
       "          (linear0): Linear(in_features=4, out_features=128, bias=True)\n",
       "          (linear1): Linear(in_features=128, out_features=4, bias=True)\n",
       "          (norm1): LayerNorm((4,), eps=1e-05, elementwise_affine=True)\n",
       "        )\n",
       "        (1): ModuleDict(\n",
       "          (attention): MultiheadAttention(\n",
       "            (W_q): Linear(in_features=4, out_features=4, bias=True)\n",
       "            (W_k): Linear(in_features=4, out_features=4, bias=True)\n",
       "            (W_v): Linear(in_features=4, out_features=4, bias=True)\n",
       "          )\n",
       "          (linear0): Linear(in_features=4, out_features=128, bias=True)\n",
       "          (linear1): Linear(in_features=128, out_features=4, bias=True)\n",
       "          (norm1): LayerNorm((4,), eps=1e-05, elementwise_affine=True)\n",
       "          (norm0): LayerNorm((4,), eps=1e-05, elementwise_affine=True)\n",
       "        )\n",
       "      )\n",
       "      (activation): ReLU()\n",
       "      (last_activation): ReLU()\n",
       "      (last_normalization): LayerNorm((4,), eps=1e-05, elementwise_affine=True)\n",
       "      (head): Linear(in_features=4, out_features=4, bias=True)\n",
       "    )\n",
       "    (encoder_logvar): Transformer(\n",
       "      (layers): ModuleList(\n",
       "        (0): ModuleDict(\n",
       "          (attention): MultiheadAttention(\n",
       "            (W_q): Linear(in_features=4, out_features=4, bias=True)\n",
       "            (W_k): Linear(in_features=4, out_features=4, bias=True)\n",
       "            (W_v): Linear(in_features=4, out_features=4, bias=True)\n",
       "          )\n",
       "          (linear0): Linear(in_features=4, out_features=128, bias=True)\n",
       "          (linear1): Linear(in_features=128, out_features=4, bias=True)\n",
       "          (norm1): LayerNorm((4,), eps=1e-05, elementwise_affine=True)\n",
       "        )\n",
       "        (1): ModuleDict(\n",
       "          (attention): MultiheadAttention(\n",
       "            (W_q): Linear(in_features=4, out_features=4, bias=True)\n",
       "            (W_k): Linear(in_features=4, out_features=4, bias=True)\n",
       "            (W_v): Linear(in_features=4, out_features=4, bias=True)\n",
       "          )\n",
       "          (linear0): Linear(in_features=4, out_features=128, bias=True)\n",
       "          (linear1): Linear(in_features=128, out_features=4, bias=True)\n",
       "          (norm1): LayerNorm((4,), eps=1e-05, elementwise_affine=True)\n",
       "          (norm0): LayerNorm((4,), eps=1e-05, elementwise_affine=True)\n",
       "        )\n",
       "      )\n",
       "      (activation): ReLU()\n",
       "      (last_activation): ReLU()\n",
       "      (last_normalization): LayerNorm((4,), eps=1e-05, elementwise_affine=True)\n",
       "      (head): Linear(in_features=4, out_features=4, bias=True)\n",
       "    )\n",
       "    (decoder): Transformer(\n",
       "      (layers): ModuleList(\n",
       "        (0): ModuleDict(\n",
       "          (attention): MultiheadAttention(\n",
       "            (W_q): Linear(in_features=4, out_features=4, bias=True)\n",
       "            (W_k): Linear(in_features=4, out_features=4, bias=True)\n",
       "            (W_v): Linear(in_features=4, out_features=4, bias=True)\n",
       "          )\n",
       "          (linear0): Linear(in_features=4, out_features=128, bias=True)\n",
       "          (linear1): Linear(in_features=128, out_features=4, bias=True)\n",
       "          (norm1): LayerNorm((4,), eps=1e-05, elementwise_affine=True)\n",
       "        )\n",
       "        (1): ModuleDict(\n",
       "          (attention): MultiheadAttention(\n",
       "            (W_q): Linear(in_features=4, out_features=4, bias=True)\n",
       "            (W_k): Linear(in_features=4, out_features=4, bias=True)\n",
       "            (W_v): Linear(in_features=4, out_features=4, bias=True)\n",
       "          )\n",
       "          (linear0): Linear(in_features=4, out_features=128, bias=True)\n",
       "          (linear1): Linear(in_features=128, out_features=4, bias=True)\n",
       "          (norm1): LayerNorm((4,), eps=1e-05, elementwise_affine=True)\n",
       "          (norm0): LayerNorm((4,), eps=1e-05, elementwise_affine=True)\n",
       "        )\n",
       "      )\n",
       "      (activation): ReLU()\n",
       "      (last_activation): ReLU()\n",
       "      (last_normalization): LayerNorm((4,), eps=1e-05, elementwise_affine=True)\n",
       "      (head): Linear(in_features=4, out_features=4, bias=True)\n",
       "    )\n",
       "  )\n",
       "  (Reconstructor): Reconstructor(\n",
       "    (cat_recons): ModuleList(\n",
       "      (0): Linear(in_features=4, out_features=2, bias=True)\n",
       "      (1): Linear(in_features=4, out_features=9, bias=True)\n",
       "      (2): Linear(in_features=4, out_features=16, bias=True)\n",
       "      (3): Linear(in_features=4, out_features=7, bias=True)\n",
       "      (4): Linear(in_features=4, out_features=15, bias=True)\n",
       "      (5): Linear(in_features=4, out_features=6, bias=True)\n",
       "      (6): Linear(in_features=4, out_features=5, bias=True)\n",
       "      (7): Linear(in_features=4, out_features=2, bias=True)\n",
       "      (8): Linear(in_features=4, out_features=42, bias=True)\n",
       "    )\n",
       "  )\n",
       ")"
      ]
     },
     "execution_count": 31,
     "metadata": {},
     "output_type": "execute_result"
    }
   ],
   "source": [
    "from tabsyn.vae.model import Model_VAE\n",
    "\n",
    "model_path = '/home/pcrespo/repos/tabsyn/tabsyn/vae/ckpt/adult/model.pt'\n",
    "\n",
    "model = Model_VAE(num_layers=num_layers, d_numerical=d_numerical, categories=categories, d_token=d_token, n_head=n_head, factor=factor, bias=True).to(device)\n",
    "model.load_state_dict(torch.load(model_path, map_location=device))\n",
    "model.eval()"
   ]
  },
  {
   "cell_type": "code",
   "execution_count": 34,
   "metadata": {},
   "outputs": [],
   "source": [
    "X_test_num = X_test_num.to(device)\n",
    "X_test_cat = X_test_cat.to(device)\n",
    "\n",
    "with torch.no_grad():\n",
    "    Recon_X_num, Recon_X_cat, mu_z, std_z = model(X_test_num, X_test_cat)"
   ]
  },
  {
   "cell_type": "code",
   "execution_count": 40,
   "metadata": {},
   "outputs": [
    {
     "data": {
      "text/plain": [
       "torch.Size([16281, 6])"
      ]
     },
     "execution_count": 40,
     "metadata": {},
     "output_type": "execute_result"
    }
   ],
   "source": [
    "Recon_X_num.shape"
   ]
  },
  {
   "cell_type": "code",
   "execution_count": 43,
   "metadata": {},
   "outputs": [
    {
     "data": {
      "text/plain": [
       "tensor([[  2.6523, -30.5911],\n",
       "        [ -0.8983, -31.0819],\n",
       "        [  4.6515,  14.0340],\n",
       "        ...,\n",
       "        [ -1.9954, -27.8558],\n",
       "        [  2.6179, -31.5039],\n",
       "        [  3.7487,  15.5403]], device='cuda:0')"
      ]
     },
     "execution_count": 43,
     "metadata": {},
     "output_type": "execute_result"
    }
   ],
   "source": [
    "Recon_X_cat[0]"
   ]
  }
 ],
 "metadata": {
  "kernelspec": {
   "display_name": "data_aug",
   "language": "python",
   "name": "python3"
  },
  "language_info": {
   "codemirror_mode": {
    "name": "ipython",
    "version": 3
   },
   "file_extension": ".py",
   "mimetype": "text/x-python",
   "name": "python",
   "nbconvert_exporter": "python",
   "pygments_lexer": "ipython3",
   "version": "3.10.15"
  }
 },
 "nbformat": 4,
 "nbformat_minor": 2
}
