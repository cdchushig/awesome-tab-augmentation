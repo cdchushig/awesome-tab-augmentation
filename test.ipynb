{
 "cells": [
  {
   "cell_type": "code",
   "execution_count": 2,
   "metadata": {},
   "outputs": [],
   "source": [
    "from ucimlrepo import fetch_ucirepo \n",
    "import pandas as pd\n",
    "from xgboost import XGBClassifier\n",
    "from sklearn.model_selection import train_test_split\n",
    "from sklearn.metrics import roc_auc_score, f1_score, precision_score, accuracy_score\n",
    "from sklearn.metrics import confusion_matrix\n",
    "\n",
    "import seaborn as sns\n",
    "from matplotlib import pyplot as plt\n",
    "\n",
    "from imblearn.over_sampling import SMOTE\n",
    "\n",
    "pd.set_option('display.max_columns', None)\n",
    "pd.set_option('display.max_rows', 50)"
   ]
  },
  {
   "cell_type": "markdown",
   "metadata": {},
   "source": [
    "### THORACIC SURGERY"
   ]
  },
  {
   "cell_type": "code",
   "execution_count": null,
   "metadata": {},
   "outputs": [],
   "source": [
    "# fetch dataset \n",
    "thoracic_surgery_data = pd.read_csv(\"data/thoracic_surgery/thoracic_surgery.csv\")\n",
    "\n",
    "thoracic_surgery_data.head()"
   ]
  },
  {
   "cell_type": "code",
   "execution_count": 9,
   "metadata": {},
   "outputs": [],
   "source": [
    "def preprocess_thoracic(data):\n",
    "\n",
    "    # drop the ID column\n",
    "    data = data.drop(columns=[\"id\"], axis=1)\n",
    "    \n",
    "    numerical_cols = [col for col in data.columns if data[col].dtype != 'object']\n",
    "    non_numerical_cols = [col for col in data.columns if data[col].dtype == 'object']\n",
    "    \n",
    "    # print the indeces of the numerical and non-numerical columns\n",
    "    print(\"Numerical columns indeces: \" , [data.columns.get_loc(col) for col in numerical_cols])  \n",
    "    print(\"Non-numerical columns indeces: \" , [data.columns.get_loc(col) for col in non_numerical_cols])\n",
    "    \n",
    "    print(\"Numerical columns: \", numerical_cols)\n",
    "    print(\"Non-numerical columns: \", non_numerical_cols)\n",
    "        \n",
    "    pre_six = {\"PRZ0\": 0, \"PRZ1\": 1, \"PRZ2\": 2}\n",
    "    pre_14 = {\"OC11\": 0, \"OC12\": 1, \"OC13\": 2, \"OC14\": 3}\n",
    "\n",
    "    data = pd.get_dummies(data, columns=[\"DGN\"], drop_first=True)\n",
    "\n",
    "    data.loc[:, \"PRE6\"] = data[\"PRE6\"].map(pre_six)\n",
    "    data.loc[:, \"PRE14\"] = data[\"PRE14\"].map(pre_14)\n",
    "\n",
    "    bool_columns = data.columns[data.isin(['T', 'F']).any()]\n",
    "    data.loc[:, bool_columns] = data[bool_columns].replace({'T': 1, 'F': 0}).infer_objects(copy=False)\n",
    "\n",
    "    data.loc[:, \"Risk1Yr\"] = data[\"Risk1Yr\"].replace({'T': 1, 'F': 0}).infer_objects(copy=False)\n",
    "    \n",
    "    ind_out = data[\"PRE5\"] > 15\n",
    "    data.drop(data[ind_out].index, inplace=True)\n",
    "    \n",
    "    # boolean columns to 0, 1\n",
    "    data = data.astype(float)\n",
    "    \n",
    "    return data, numerical_cols, non_numerical_cols"
   ]
  },
  {
   "cell_type": "code",
   "execution_count": null,
   "metadata": {},
   "outputs": [],
   "source": [
    "thoracic_surgery_data, numerical_cols, non_numerical_cols = preprocess_thoracic(thoracic_surgery_data)"
   ]
  },
  {
   "cell_type": "code",
   "execution_count": 11,
   "metadata": {},
   "outputs": [],
   "source": [
    "# save thoracic_surgery_data\n",
    "\n",
    "thoracic_surgery_data.to_csv(\"data/thoracic_surgery/thoracic_surgery.csv\", index=False)"
   ]
  },
  {
   "cell_type": "code",
   "execution_count": 36,
   "metadata": {},
   "outputs": [],
   "source": [
    "import json\n",
    "\n",
    "metadata = {\n",
    "    \"name\": \"thoracic_surgery\",\n",
    "    \"task_type\": \"binclass\",  # binclass or regression or multiclass\n",
    "    \"header\": \"infer\",\n",
    "    \"column_names\": None,\n",
    "    \"num_col_idx\": [1,2,15],  # list of indices of numerical columns\n",
    "    \"cat_col_idx\": [0, 3, 4, 5, 6, 7, 8, 9, 10, 11, 12, 13, 14,16],  # list of indices of categorical columns\n",
    "    \"target_col_idx\": [16],  # list of indices of the target columns (for MLE)\n",
    "    \"file_type\": \"csv\",\n",
    "    \"data_path\": f\"data/thoracic_surgery/thoracic_surgery.csv\",\n",
    "    \"test_path\": None,\n",
    "}\n",
    "with open(\"data/Info/thoracic_surgery.json\", \"w\") as json_file:\n",
    "    json.dump(metadata, json_file, indent=4)"
   ]
  },
  {
   "cell_type": "code",
   "execution_count": 5,
   "metadata": {},
   "outputs": [],
   "source": [
    "thoracic_X = thoracic_surgery_data.drop(columns=[\"Risk1Yr\"])\n",
    "thoracic_y = thoracic_surgery_data[\"Risk1Yr\"]"
   ]
  },
  {
   "cell_type": "code",
   "execution_count": null,
   "metadata": {},
   "outputs": [],
   "source": [
    "thoracic_surgery_data.head(20)"
   ]
  },
  {
   "cell_type": "code",
   "execution_count": null,
   "metadata": {},
   "outputs": [],
   "source": [
    "p = thoracic_surgery_data.hist(figsize = (20,20))"
   ]
  },
  {
   "cell_type": "code",
   "execution_count": null,
   "metadata": {},
   "outputs": [],
   "source": [
    "thoracic_X.isna().sum()"
   ]
  },
  {
   "cell_type": "code",
   "execution_count": null,
   "metadata": {},
   "outputs": [],
   "source": [
    "plt.figure(figsize=(20, 20))\n",
    "sns.heatmap(thoracic_surgery_data.corr(), annot=True, fmt='.2f', cmap='coolwarm')"
   ]
  },
  {
   "cell_type": "code",
   "execution_count": null,
   "metadata": {},
   "outputs": [],
   "source": [
    "thoracic_y.value_counts()"
   ]
  },
  {
   "cell_type": "code",
   "execution_count": null,
   "metadata": {},
   "outputs": [],
   "source": [
    "X_train, X_test, y_train, y_test = train_test_split(thoracic_X, thoracic_y, test_size=0.2, random_state=42)\n",
    "\n",
    "model = XGBClassifier()\n",
    "\n",
    "model.fit(X_train, y_train)\n",
    "\n",
    "# TEST\n",
    "pred = model.predict(X_test)\n",
    "\n",
    "# AUROC, F1, PRECISSION, ACCURACY\n",
    "roc_auc = roc_auc_score(y_test, pred)\n",
    "f1 = f1_score(y_test, pred)\n",
    "precision = precision_score(y_test, pred)\n",
    "accuracy = accuracy_score(y_test, pred)\n",
    "\n",
    "print(f\"ROC_AUC: {roc_auc}\")\n",
    "print(f\"F1: {f1}\")\n",
    "print(f\"PRECISION: {precision}\")\n",
    "print(f\"ACCURACY: {accuracy}\")\n",
    "\n",
    "conf_matrix = confusion_matrix(y_test, pred)\n",
    "\n",
    "print(conf_matrix)\n",
    "\n",
    "print(f\"True Positive: {conf_matrix[1][1]}\")\n",
    "print(f\"True Negative: {conf_matrix[0][0]}\")\n",
    "print(f\"False Positive: {conf_matrix[0][1]}\")\n",
    "print(f\"False Negative: {conf_matrix[1][0]}\")"
   ]
  },
  {
   "cell_type": "code",
   "execution_count": null,
   "metadata": {},
   "outputs": [],
   "source": [
    "X_train, X_test, y_train, y_test = train_test_split(thoracic_X, thoracic_y, test_size=0.2, random_state=42)\n",
    "\n",
    "smote = SMOTE(random_state=42)\n",
    "X_train_resampled, y_train_resampled = smote.fit_resample(X_train, y_train)\n",
    "\n",
    "# Training the model on the resampled data\n",
    "model = XGBClassifier()\n",
    "model.fit(X_train_resampled, y_train_resampled)\n",
    "\n",
    "# Testing the model\n",
    "pred = model.predict(X_test)\n",
    "\n",
    "# Metrics\n",
    "roc_auc = roc_auc_score(y_test, pred)\n",
    "f1 = f1_score(y_test, pred)\n",
    "precision = precision_score(y_test, pred)\n",
    "accuracy = accuracy_score(y_test, pred)\n",
    "\n",
    "print(f\"ROC_AUC: {roc_auc}\")\n",
    "print(f\"F1: {f1}\")\n",
    "print(f\"PRECISION: {precision}\")\n",
    "print(f\"ACCURACY: {accuracy}\")\n",
    "\n",
    "# Confusion Matrix\n",
    "conf_matrix = confusion_matrix(y_test, pred)\n",
    "\n",
    "print(conf_matrix)\n",
    "\n",
    "print(f\"True Positive: {conf_matrix[1][1]}\")\n",
    "print(f\"True Negative: {conf_matrix[0][0]}\")\n",
    "print(f\"False Positive: {conf_matrix[0][1]}\")\n",
    "print(f\"False Negative: {conf_matrix[1][0]}\")"
   ]
  },
  {
   "cell_type": "markdown",
   "metadata": {},
   "source": [
    "### PRIMA"
   ]
  },
  {
   "cell_type": "code",
   "execution_count": 17,
   "metadata": {},
   "outputs": [],
   "source": [
    "prima_df = pd.read_csv('data/diabetes/diabetes.csv')"
   ]
  },
  {
   "cell_type": "code",
   "execution_count": null,
   "metadata": {},
   "outputs": [],
   "source": [
    "prima_df.isna().sum()"
   ]
  },
  {
   "cell_type": "code",
   "execution_count": null,
   "metadata": {},
   "outputs": [],
   "source": [
    "plt.figure(figsize=(15, 15))\n",
    "sns.heatmap(prima_df.corr(), annot=True, fmt='.2f', cmap='coolwarm')"
   ]
  },
  {
   "cell_type": "code",
   "execution_count": null,
   "metadata": {},
   "outputs": [],
   "source": [
    "prima_df.head()"
   ]
  },
  {
   "cell_type": "code",
   "execution_count": null,
   "metadata": {},
   "outputs": [],
   "source": [
    "numerical_pima_cols = [col for col in prima_df.columns if prima_df[col].dtype != 'object']\n",
    "non_numerical_pima_cols = [col for col in prima_df.columns if prima_df[col].dtype == 'object']\n",
    "\n",
    "print(\"Numerical columns indeces: \" , [prima_df.columns.get_loc(col) for col in numerical_pima_cols])\n",
    "print(\"Non-numerical columns indeces: \" , [prima_df.columns.get_loc(col) for col in non_numerical_pima_cols])"
   ]
  },
  {
   "cell_type": "code",
   "execution_count": null,
   "metadata": {},
   "outputs": [],
   "source": [
    "p = prima_df.hist(figsize = (20,20))"
   ]
  },
  {
   "cell_type": "code",
   "execution_count": 24,
   "metadata": {},
   "outputs": [],
   "source": [
    "import json\n",
    "\n",
    "metadata = {\n",
    "    \"name\": \"diabetes\",\n",
    "    \"task_type\": \"binclass\",  # binclass or regression or multiclass\n",
    "    \"header\": \"infer\",\n",
    "    \"column_names\": None,\n",
    "    \"num_col_idx\": [0, 1, 2, 3, 4, 5, 6, 7],  # list of indices of numerical columns\n",
    "    \"cat_col_idx\": [8],  # list of indices of categorical columns\n",
    "    \"target_col_idx\": [8],  # list of indices of the target columns (for MLE)\n",
    "    \"file_type\": \"csv\",\n",
    "    \"data_path\": f\"data/diabetes/diabetes.csv\",\n",
    "    \"test_path\": None,\n",
    "}\n",
    "with open(\"data/Info/diabetes.json\", \"w\") as json_file:\n",
    "    json.dump(metadata, json_file, indent=4)"
   ]
  },
  {
   "cell_type": "code",
   "execution_count": null,
   "metadata": {},
   "outputs": [],
   "source": [
    "X_train, X_test, y_train, y_test = train_test_split(prima_X, prima_y, test_size=0.2, random_state=42)\n",
    "\n",
    "model = XGBClassifier()\n",
    "\n",
    "model.fit(X_train, y_train)\n",
    "\n",
    "# TEST\n",
    "pred = model.predict(X_test)\n",
    "\n",
    "# AUROC, F1, PRECISSION, ACCURACY\n",
    "roc_auc = roc_auc_score(y_test, pred)\n",
    "f1 = f1_score(y_test, pred)\n",
    "precision = precision_score(y_test, pred)\n",
    "accuracy = accuracy_score(y_test, pred)\n",
    "\n",
    "print(f\"ROC_AUC: {roc_auc}\")\n",
    "print(f\"F1: {f1}\")\n",
    "print(f\"PRECISION: {precision}\")\n",
    "print(f\"ACCURACY: {accuracy}\")\n",
    "\n",
    "conf_matrix = confusion_matrix(y_test, pred)\n",
    "\n",
    "print(conf_matrix)"
   ]
  },
  {
   "cell_type": "markdown",
   "metadata": {},
   "source": [
    "### CERVICAL CANCER"
   ]
  },
  {
   "cell_type": "code",
   "execution_count": 25,
   "metadata": {},
   "outputs": [],
   "source": [
    "  # fetch dataset \n",
    "#cervical_cancer_risk_factors = fetch_ucirepo(id=383) \n",
    "  \n",
    "# data (as pandas dataframes) \n",
    "cervical = pd.read_csv(\"data/cervical/cervical.csv\")"
   ]
  },
  {
   "cell_type": "code",
   "execution_count": null,
   "metadata": {},
   "outputs": [],
   "source": [
    "cervical_data = pd.DataFrame(cervical)\n",
    "\n",
    "cervical_data.head()"
   ]
  },
  {
   "cell_type": "code",
   "execution_count": 32,
   "metadata": {},
   "outputs": [],
   "source": [
    "# replace all ? in the dataset with NaN\n",
    "import numpy as np\n",
    "cervical_data = cervical_data.replace('?', np.nan)"
   ]
  },
  {
   "cell_type": "code",
   "execution_count": null,
   "metadata": {},
   "outputs": [],
   "source": [
    "cervical_data.isna().sum()"
   ]
  },
  {
   "cell_type": "code",
   "execution_count": null,
   "metadata": {},
   "outputs": [],
   "source": [
    "plt.figure(figsize=(20, 20))\n",
    "sns.heatmap(cervical_data.corr(), annot=True, fmt='.2f', cmap='coolwarm')"
   ]
  },
  {
   "cell_type": "code",
   "execution_count": 18,
   "metadata": {},
   "outputs": [],
   "source": [
    "cervical_y = cervical[\"Dx:Cancer\"]\n",
    "cervical_X = cervical.drop(columns=[\"Dx:Cancer\"])"
   ]
  },
  {
   "cell_type": "code",
   "execution_count": null,
   "metadata": {},
   "outputs": [],
   "source": [
    "X_train, X_test, y_train, y_test = train_test_split(cervical_X, cervical_y, test_size=0.2, random_state=42)\n",
    "\n",
    "model = XGBClassifier()\n",
    "\n",
    "model.fit(X_train, y_train)\n",
    "\n",
    "# TEST\n",
    "pred = model.predict(X_test)\n",
    "\n",
    "\n",
    "# AUROC, F1, PRECISSION, ACCURACY\n",
    "roc_auc = roc_auc_score(y_test, pred)\n",
    "f1 = f1_score(y_test, pred)\n",
    "precision = precision_score(y_test, pred)\n",
    "accuracy = accuracy_score(y_test, pred)\n",
    "\n",
    "print(f\"ROC_AUC: {roc_auc}\")\n",
    "print(f\"F1: {f1}\")\n",
    "print(f\"PRECISION: {precision}\")\n",
    "print(f\"ACCURACY: {accuracy}\")\n",
    "\n",
    "conf_matrix = confusion_matrix(y_test, pred)\n",
    "\n",
    "print(f\"True Positive: {conf_matrix[1][1]}\")\n",
    "print(f\"True Negative: {conf_matrix[0][0]}\")\n",
    "print(f\"False Positive: {conf_matrix[0][1]}\")\n",
    "print(f\"False Negative: {conf_matrix[1][0]}\")"
   ]
  },
  {
   "cell_type": "markdown",
   "metadata": {},
   "source": [
    "### PARKINSON"
   ]
  },
  {
   "cell_type": "code",
   "execution_count": 78,
   "metadata": {},
   "outputs": [],
   "source": [
    "# fetch dataset \n",
    "#parkinsons = fetch_ucirepo(id=174) \n",
    "  \n",
    "# data (as pandas dataframes) \n",
    "#parkinsons_X = parkinsons.data.features \n",
    "#parkinsons_y = parkinsons.data.targets\n",
    "\n",
    "#parkinsons_X = parkinsons_X.loc[:, ~parkinsons_X.columns.duplicated()]"
   ]
  },
  {
   "cell_type": "code",
   "execution_count": 35,
   "metadata": {},
   "outputs": [],
   "source": [
    "#parkinsons = pd.concat([parkinsons_X, parkinsons_y], axis=1)\n",
    "parkinsons = pd.read_csv(\"data/parkinsons/parkinsons.csv\")"
   ]
  },
  {
   "cell_type": "code",
   "execution_count": null,
   "metadata": {},
   "outputs": [],
   "source": [
    "parkinsons.status.value_counts()"
   ]
  },
  {
   "cell_type": "code",
   "execution_count": 81,
   "metadata": {},
   "outputs": [],
   "source": [
    "#parkinsons.to_csv(\"data/parkinsons/parkinsons.csv\", index=False)"
   ]
  },
  {
   "cell_type": "code",
   "execution_count": null,
   "metadata": {},
   "outputs": [],
   "source": [
    "X_train, X_test, y_train, y_test = train_test_split(parkinsons_X, parkinsons_y, test_size=0.2, random_state=42)\n",
    "\n",
    "model = XGBClassifier()\n",
    "\n",
    "model.fit(X_train, y_train)\n",
    "\n",
    "# TEST\n",
    "pred = model.predict(X_test)\n",
    "\n",
    "\n",
    "# AUROC, F1, PRECISSION, ACCURACY\n",
    "roc_auc = roc_auc_score(y_test, pred)\n",
    "f1 = f1_score(y_test, pred)\n",
    "precision = precision_score(y_test, pred)\n",
    "accuracy = accuracy_score(y_test, pred)\n",
    "\n",
    "print(f\"ROC_AUC: {roc_auc}\")\n",
    "print(f\"F1: {f1}\")\n",
    "print(f\"PRECISION: {precision}\")\n",
    "print(f\"ACCURACY: {accuracy}\")\n",
    "\n",
    "conf_matrix = confusion_matrix(y_test, pred)\n",
    "\n",
    "print(conf_matrix)"
   ]
  },
  {
   "cell_type": "code",
   "execution_count": null,
   "metadata": {},
   "outputs": [],
   "source": [
    "print(y_train.dtypes)"
   ]
  },
  {
   "cell_type": "markdown",
   "metadata": {},
   "source": [
    "### HEART"
   ]
  },
  {
   "cell_type": "code",
   "execution_count": 6,
   "metadata": {},
   "outputs": [],
   "source": [
    "heart_data = pd.read_csv(\"data/heart/heart.csv\")"
   ]
  },
  {
   "cell_type": "code",
   "execution_count": null,
   "metadata": {},
   "outputs": [],
   "source": [
    "heart_data"
   ]
  },
  {
   "cell_type": "code",
   "execution_count": 11,
   "metadata": {},
   "outputs": [],
   "source": [
    "# replace all NAN with 0\n",
    "\n",
    "heart_data = heart_data.fillna(0)\n",
    "\n",
    "heart_data.to_csv(\"data/heart/heart.csv\", index=False)"
   ]
  },
  {
   "cell_type": "code",
   "execution_count": null,
   "metadata": {},
   "outputs": [],
   "source": [
    "p = heart_data.hist(figsize = (20,20))"
   ]
  },
  {
   "cell_type": "code",
   "execution_count": null,
   "metadata": {},
   "outputs": [],
   "source": [
    "for i, col in enumerate(heart_data.columns):\n",
    "    print(i, col)"
   ]
  },
  {
   "cell_type": "code",
   "execution_count": null,
   "metadata": {},
   "outputs": [],
   "source": [
    "cat = [0, 2, 3, 6, 7, 8, 15]\n",
    "num = [1, 4, 5, 9, 10, 11, 12, 13, 14]"
   ]
  },
  {
   "cell_type": "code",
   "execution_count": null,
   "metadata": {},
   "outputs": [],
   "source": [
    "heart_data.isna().sum()"
   ]
  },
  {
   "cell_type": "code",
   "execution_count": 49,
   "metadata": {},
   "outputs": [],
   "source": [
    "heart_data_info = {\n",
    "    \"name\": \"heart\",\n",
    "    \"task_type\": \"binclass\",  # binclass or regression or multiclass\n",
    "    \"header\" : \"infer\",\n",
    "    \"column_names\": None,\n",
    "    \"num_col_idx\": [1, 4, 9, 10, 11, 12, 13, 14],\n",
    "    \"cat_col_idx\": [0, 2, 3, 5, 6, 7, 8, 15],\n",
    "    \"target_col_idx\": [13],  # list of indices of the target columns (for MLE)\n",
    "    \"file_type\": \"csv\",\n",
    "    \"data_path\": f\"data/heart/heart.csv\",\n",
    "    \"test_path\": None,\n",
    "}\n",
    "\n",
    "with open(\"data/Info/heart.json\", \"w\") as json_file:\n",
    "    json.dump(heart_data_info, json_file, indent=4)\n",
    "    "
   ]
  },
  {
   "cell_type": "code",
   "execution_count": null,
   "metadata": {},
   "outputs": [],
   "source": []
  },
  {
   "cell_type": "markdown",
   "metadata": {},
   "source": [
    "### RETINOPATHY"
   ]
  },
  {
   "cell_type": "code",
   "execution_count": 68,
   "metadata": {},
   "outputs": [],
   "source": [
    "# fetch dataset \n",
    "diabetic_retinopathy_debrecen = fetch_ucirepo(id=329) \n",
    "  \n",
    "# data (as pandas dataframes) \n",
    "retinopathy_X = diabetic_retinopathy_debrecen.data.features \n",
    "retinopathy_y = diabetic_retinopathy_debrecen.data.targets \n",
    "\n",
    "retinopathy = pd.concat([retinopathy_X, retinopathy_y], axis=1)"
   ]
  },
  {
   "cell_type": "code",
   "execution_count": null,
   "metadata": {},
   "outputs": [],
   "source": [
    "retinopathy.head()"
   ]
  },
  {
   "cell_type": "code",
   "execution_count": 51,
   "metadata": {},
   "outputs": [],
   "source": [
    "# save csv\n",
    "#retinopathy.to_csv(\"data/retinopathy/diabetic_retinopathy.csv\", index=False)\n",
    "retinopathy = pd.read_csv(\"data/retinopathy/diabetic_retinopathy.csv\")"
   ]
  },
  {
   "cell_type": "code",
   "execution_count": 6,
   "metadata": {},
   "outputs": [],
   "source": []
  },
  {
   "cell_type": "code",
   "execution_count": null,
   "metadata": {},
   "outputs": [],
   "source": [
    "retinopathy.head()"
   ]
  },
  {
   "cell_type": "code",
   "execution_count": null,
   "metadata": {},
   "outputs": [],
   "source": [
    "retinopathy[\"quality\"].value_counts()"
   ]
  },
  {
   "cell_type": "code",
   "execution_count": null,
   "metadata": {},
   "outputs": [],
   "source": [
    "plt.figure(figsize=(20, 20))\n",
    "sns.heatmap(retinopathy.corr(), annot=True, fmt='.2f', cmap='coolwarm')"
   ]
  },
  {
   "cell_type": "code",
   "execution_count": null,
   "metadata": {},
   "outputs": [],
   "source": [
    "p = retinopathy.hist(figsize = (20,20))"
   ]
  },
  {
   "cell_type": "code",
   "execution_count": null,
   "metadata": {},
   "outputs": [],
   "source": []
  },
  {
   "cell_type": "code",
   "execution_count": null,
   "metadata": {},
   "outputs": [],
   "source": [
    "retinopathy_info = {\n",
    "    \"name\": \"retinopathy\",\n",
    "    \"task_type\": \"binclass\",  # binclass or regression or multiclass\n",
    "    \"header\" : \"infer\",\n",
    "    \"column_names\": None,\n",
    "    \"num_col_idx\": [2, 3, 4, 5, 6, 7, 8, 9, 10, 11, 12, 13, 14, 15, 16, 17],\n",
    "    \"cat_col_idx\": [0, 1, 18, 19],\n",
    "    \"target_col_idx\": [9],  # list of indices of the target columns (for MLE)\n",
    "    \"file_type\": \"csv\",\n",
    "    \"data_path\": f\"data/retinopathy/diabetic_retinopathy.csv\",\n",
    "    \"test_path\": None,\n",
    "}\n",
    "\n",
    "with open(\"data/Info/retinopathy.json\", \"w\") as json_file:\n",
    "    json.dump(retinopathy_info, json_file, indent=4)"
   ]
  },
  {
   "cell_type": "code",
   "execution_count": null,
   "metadata": {},
   "outputs": [],
   "source": [
    "X_train, X_test, y_train, y_test = train_test_split(retinopathy_X, retinopathy_y, test_size=0.2, random_state=42)\n",
    "\n",
    "model = XGBClassifier()\n",
    "\n",
    "model.fit(X_train, y_train)\n",
    "\n",
    "# TEST\n",
    "\n",
    "pred = model.predict(X_test)\n",
    "\n",
    "# AUROC, F1, PRECISSION, ACCURACY\n",
    "\n",
    "roc_auc = roc_auc_score(y_test, pred)\n",
    "f1 = f1_score(y_test, pred)\n",
    "precision = precision_score(y_test, pred)\n",
    "accuracy = accuracy_score(y_test, pred)\n",
    "\n",
    "print(f\"ROC_AUC: {roc_auc}\")\n",
    "print(f\"F1: {f1}\")\n",
    "print(f\"PRECISION: {precision}\")\n",
    "print(f\"ACCURACY: {accuracy}\")\n",
    "\n",
    "conf_matrix = confusion_matrix(y_test, pred)\n",
    "\n",
    "print(conf_matrix)"
   ]
  },
  {
   "cell_type": "markdown",
   "metadata": {},
   "source": [
    "### BREAST CANCER"
   ]
  },
  {
   "cell_type": "code",
   "execution_count": 71,
   "metadata": {},
   "outputs": [],
   "source": [
    "# fetch dataset \n",
    "breast_cancer_wisconsin_diagnostic = fetch_ucirepo(id=17) \n",
    "  \n",
    "# data (as pandas dataframes) \n",
    "breast_X = breast_cancer_wisconsin_diagnostic.data.features \n",
    "breast_Y = breast_cancer_wisconsin_diagnostic.data.targets "
   ]
  },
  {
   "cell_type": "code",
   "execution_count": 72,
   "metadata": {},
   "outputs": [],
   "source": [
    "full_data = pd.concat([breast_X, breast_Y], axis=1)\n",
    "d = full_data[[\"concave_points1\", \"perimeter3\", \"concave_points3\", \"Diagnosis\"]]"
   ]
  },
  {
   "cell_type": "code",
   "execution_count": null,
   "metadata": {},
   "outputs": [],
   "source": [
    "full_data"
   ]
  },
  {
   "cell_type": "code",
   "execution_count": null,
   "metadata": {},
   "outputs": [],
   "source": [
    "# imbalance in breast_Y\n",
    "\n",
    "breast_Y.replace({'M': 1, 'B': 0}, inplace=True)\n",
    "\n",
    "print(breast_Y.value_counts())"
   ]
  },
  {
   "cell_type": "code",
   "execution_count": null,
   "metadata": {},
   "outputs": [],
   "source": [
    "breast = pd.concat([breast_X, breast_Y], axis=1)\n",
    "\n",
    "breast.head()"
   ]
  },
  {
   "cell_type": "code",
   "execution_count": 77,
   "metadata": {},
   "outputs": [],
   "source": [
    "breast.to_csv(\"data/breast_cancer/breast_cancer.csv\", index=False)"
   ]
  },
  {
   "cell_type": "code",
   "execution_count": null,
   "metadata": {},
   "outputs": [],
   "source": [
    "X_train, X_test, y_train, y_test = train_test_split(breast_X, breast_Y, test_size=0.2, random_state=42)\n",
    "\n",
    "model = XGBClassifier()\n",
    "\n",
    "model.fit(X_train, y_train)\n",
    "\n",
    "# TEST\n",
    "\n",
    "pred = model.predict(X_test)\n",
    "\n",
    "\n",
    "# AUROC, F1, PRECISSION, ACCURACY\n",
    "\n",
    "roc_auc = roc_auc_score(y_test, pred)\n",
    "f1 = f1_score(y_test, pred)\n",
    "precision = precision_score(y_test, pred)\n",
    "accuracy = accuracy_score(y_test, pred)\n",
    "\n",
    "print(f\"ROC_AUC: {roc_auc}\")\n",
    "print(f\"F1: {f1}\")\n",
    "print(f\"PRECISION: {precision}\")\n",
    "print(f\"ACCURACY: {accuracy}\")\n",
    "\n",
    "conf_matrix = confusion_matrix(y_test, pred)\n",
    "\n",
    "print(conf_matrix)"
   ]
  },
  {
   "cell_type": "code",
   "execution_count": null,
   "metadata": {},
   "outputs": [],
   "source": [
    "from matplotlib import pyplot as plt\n",
    "\n",
    "# Get feature importance\n",
    "importance = model.feature_importances_\n",
    "\n",
    "# If you have feature names\n",
    "feature_names = X_train.columns  # If X_train is a DataFrame\n",
    "\n",
    "# Sort feature importances in descending order and create a DataFrame\n",
    "importance_df = pd.DataFrame({\n",
    "    'Feature': feature_names,\n",
    "    'Importance': importance\n",
    "}).sort_values(by='Importance', ascending=False)\n",
    "\n",
    "# Optionally, you can plot the feature importances\n",
    "plt.figure(figsize=(10, 6))\n",
    "plt.barh(importance_df['Feature'], importance_df['Importance'])\n",
    "plt.gca().invert_yaxis()  # To have the most important at the top\n",
    "plt.title('Feature Importance from XGBoost')\n",
    "plt.xlabel('Importance')\n",
    "plt.show()"
   ]
  },
  {
   "cell_type": "markdown",
   "metadata": {},
   "source": [
    "### OBESITY"
   ]
  },
  {
   "cell_type": "code",
   "execution_count": null,
   "metadata": {},
   "outputs": [],
   "source": [
    "# fetch dataset \n",
    "obesity = fetch_ucirepo(id=544) \n",
    "  \n",
    "# data (as pandas dataframes) \n",
    "obesity_X = obesity.data.features \n",
    "obesity_y = obesity.data.targets \n",
    "\n",
    "obesity_y = obesity_y.replace({\"Insufficient_Weight\": 0, \"Normal_Weight\": 1, \"Overweight_Level_I\": 2, \"Overweight_Level_II\": 3, \"Obesity_Type_I\": 4, \"Obesity_Type_II\": 5, \"Obesity_Type_III\": 6})"
   ]
  },
  {
   "cell_type": "code",
   "execution_count": 3,
   "metadata": {},
   "outputs": [],
   "source": [
    "obesity = pd.concat([obesity_X, obesity_y], axis=1)"
   ]
  },
  {
   "cell_type": "code",
   "execution_count": null,
   "metadata": {},
   "outputs": [],
   "source": [
    "obesity.head()"
   ]
  },
  {
   "cell_type": "code",
   "execution_count": null,
   "metadata": {},
   "outputs": [],
   "source": [
    "obesity.isna().sum()"
   ]
  },
  {
   "cell_type": "code",
   "execution_count": 6,
   "metadata": {},
   "outputs": [],
   "source": [
    "from sklearn.preprocessing import LabelEncoder\n",
    "\n",
    "def clean_and_convert(df):\n",
    "    # Label Encoding for binary categorical variables\n",
    "    binary_columns = ['Gender', 'family_history_with_overweight', 'FAVC', 'SMOKE', 'SCC']\n",
    "    \n",
    "    le = LabelEncoder()\n",
    "    for col in binary_columns:\n",
    "        df[col] = le.fit_transform(df[col])\n",
    "    \n",
    "    # One-Hot Encoding for non-binary categorical variables\n",
    "    one_hot_columns = ['MTRANS']\n",
    "    df = pd.get_dummies(df, columns=one_hot_columns)\n",
    "    \n",
    "    # Lickert Scale\n",
    "    likert_columns = ['CAEC', 'CALC']\n",
    "    lickert_dict = {\"no\": 0, \"Sometimes\": 1, \"Frequently\": 2, \"Always\": 3}\n",
    "    \n",
    "    df[likert_columns] = df[likert_columns].replace(lickert_dict)\n",
    "    \n",
    "    # set \"NObeyesdad\" column the last\n",
    "    cols = df.columns.tolist()\n",
    "    cols.remove(\"NObeyesdad\")\n",
    "    cols.append(\"NObeyesdad\")\n",
    "    \n",
    "    df = df[cols]\n",
    "    \n",
    "    return df"
   ]
  },
  {
   "cell_type": "code",
   "execution_count": null,
   "metadata": {},
   "outputs": [],
   "source": [
    "obesity_processed = clean_and_convert(obesity)\n",
    "obesity_processed.head()"
   ]
  },
  {
   "cell_type": "code",
   "execution_count": null,
   "metadata": {},
   "outputs": [],
   "source": [
    "p = obesity_processed.hist(figsize = (20,20))"
   ]
  },
  {
   "cell_type": "code",
   "execution_count": 12,
   "metadata": {},
   "outputs": [],
   "source": [
    "import os\n",
    "os.makedirs(\"data/obesity\", exist_ok=True)\n",
    "\n",
    "obesity.to_csv(\"data/obesity/obesity.csv\", index=False)"
   ]
  }
 ],
 "metadata": {
  "kernelspec": {
   "display_name": "sever_hypo",
   "language": "python",
   "name": "python3"
  },
  "language_info": {
   "codemirror_mode": {
    "name": "ipython",
    "version": 3
   },
   "file_extension": ".py",
   "mimetype": "text/x-python",
   "name": "python",
   "nbconvert_exporter": "python",
   "pygments_lexer": "ipython3",
   "version": "3.10.15"
  }
 },
 "nbformat": 4,
 "nbformat_minor": 2
}
