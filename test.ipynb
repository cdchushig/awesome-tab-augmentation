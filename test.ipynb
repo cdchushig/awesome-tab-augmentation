{
 "cells": [
  {
   "cell_type": "code",
   "execution_count": 124,
   "metadata": {},
   "outputs": [],
   "source": [
    "from ucimlrepo import fetch_ucirepo \n",
    "import pandas as pd\n",
    "from xgboost import XGBClassifier\n",
    "from sklearn.model_selection import train_test_split\n",
    "from sklearn.metrics import roc_auc_score, f1_score, precision_score, accuracy_score\n",
    "from sklearn.metrics import confusion_matrix\n",
    "\n",
    "import seaborn as sns\n",
    "from matplotlib import pyplot as plt\n",
    "\n",
    "pd.set_option('display.max_columns', None)\n",
    "pd.set_option('display.max_rows', None)"
   ]
  },
  {
   "cell_type": "markdown",
   "metadata": {},
   "source": [
    "### THORACIC SURGERY"
   ]
  },
  {
   "cell_type": "code",
   "execution_count": 106,
   "metadata": {},
   "outputs": [],
   "source": [
    "# fetch dataset \n",
    "thoracic_surgery_data = fetch_ucirepo(id=277) \n",
    "  \n",
    "thoracic_X = thoracic_surgery_data.data.features \n",
    "thoracic_y = thoracic_surgery_data.data.targets"
   ]
  },
  {
   "cell_type": "code",
   "execution_count": 104,
   "metadata": {},
   "outputs": [],
   "source": [
    "import pandas as pd\n",
    "\n",
    "def preprocess_thoracic(X, y):\n",
    "    pre_six = {\"PRZ0\": 0, \"PRZ1\": 1, \"PRZ2\": 2}\n",
    "    pre_14 = {\"OC11\": 0, \"OC12\": 1, \"OC13\": 2, \"OC14\": 3}\n",
    "\n",
    "    X = pd.get_dummies(X, columns=[\"DGN\"], drop_first=True)\n",
    "\n",
    "    X.loc[:, \"PRE6\"] = X[\"PRE6\"].map(pre_six)\n",
    "    X.loc[:, \"PRE14\"] = X[\"PRE14\"].map(pre_14)\n",
    "\n",
    "    bool_columns = X.columns[X.isin(['T', 'F']).any()]\n",
    "    X.loc[:, bool_columns] = X[bool_columns].replace({'T': 1, 'F': 0}).infer_objects(copy=False)\n",
    "\n",
    "    y.loc[:, \"Risk1Yr\"] = y[\"Risk1Yr\"].replace({'T': 1, 'F': 0}).infer_objects(copy=False)\n",
    "    \n",
    "    # boolean columns to 0, 1\n",
    "    X = X.astype(float)\n",
    "    \n",
    "    y = y.astype(float)\n",
    "\n",
    "    return X, y"
   ]
  },
  {
   "cell_type": "code",
   "execution_count": null,
   "metadata": {},
   "outputs": [],
   "source": [
    "thoracic_X, thoracic_y = preprocess_thoracic(thoracic_X, thoracic_y)"
   ]
  },
  {
   "cell_type": "code",
   "execution_count": null,
   "metadata": {},
   "outputs": [],
   "source": [
    "X_train, X_test, y_train, y_test = train_test_split(thoracic_X, thoracic_y, test_size=0.2, random_state=42)\n",
    "\n",
    "model = XGBClassifier()\n",
    "\n",
    "model.fit(X_train, y_train)\n",
    "\n",
    "# TEST\n",
    "pred = model.predict(X_test)\n",
    "\n",
    "\n",
    "# AUROC, F1, PRECISSION, ACCURACY\n",
    "roc_auc = roc_auc_score(y_test, pred)\n",
    "f1 = f1_score(y_test, pred)\n",
    "precision = precision_score(y_test, pred)\n",
    "accuracy = accuracy_score(y_test, pred)\n",
    "\n",
    "print(f\"ROC_AUC: {roc_auc}\")\n",
    "print(f\"F1: {f1}\")\n",
    "print(f\"PRECISION: {precision}\")\n",
    "print(f\"ACCURACY: {accuracy}\")\n",
    "\n",
    "conf_matrix = confusion_matrix(y_test, pred)\n",
    "\n",
    "print(conf_matrix)\n",
    "\n",
    "print(f\"True Positive: {conf_matrix[1][1]}\")\n",
    "print(f\"True Negative: {conf_matrix[0][0]}\")\n",
    "print(f\"False Positive: {conf_matrix[0][1]}\")\n",
    "print(f\"False Negative: {conf_matrix[1][0]}\")"
   ]
  },
  {
   "cell_type": "markdown",
   "metadata": {},
   "source": [
    "### PRIMA"
   ]
  },
  {
   "cell_type": "code",
   "execution_count": 83,
   "metadata": {},
   "outputs": [],
   "source": [
    "prima_df = pd.read_csv('data/diabetes.csv')\n",
    "prima_label = prima_df[[\"Outcome\"]]\n",
    "prima_df = prima_df.drop(columns=[\"Outcome\"])\n",
    "\n",
    "prima_X = prima_df\n",
    "prima_y = prima_label"
   ]
  },
  {
   "cell_type": "code",
   "execution_count": null,
   "metadata": {},
   "outputs": [],
   "source": [
    "X_train, X_test, y_train, y_test = train_test_split(prima_X, prima_y, test_size=0.2, random_state=42)\n",
    "\n",
    "model = XGBClassifier()\n",
    "\n",
    "model.fit(X_train, y_train)\n",
    "\n",
    "# TEST\n",
    "pred = model.predict(X_test)\n",
    "\n",
    "\n",
    "# AUROC, F1, PRECISSION, ACCURACY\n",
    "roc_auc = roc_auc_score(y_test, pred)\n",
    "f1 = f1_score(y_test, pred)\n",
    "precision = precision_score(y_test, pred)\n",
    "accuracy = accuracy_score(y_test, pred)\n",
    "\n",
    "print(f\"ROC_AUC: {roc_auc}\")\n",
    "print(f\"F1: {f1}\")\n",
    "print(f\"PRECISION: {precision}\")\n",
    "print(f\"ACCURACY: {accuracy}\")\n",
    "\n",
    "conf_matrix = confusion_matrix(y_test, pred)\n",
    "\n",
    "print(conf_matrix)"
   ]
  },
  {
   "cell_type": "markdown",
   "metadata": {},
   "source": [
    "### CERVICAL CANCER"
   ]
  },
  {
   "cell_type": "code",
   "execution_count": 17,
   "metadata": {},
   "outputs": [],
   "source": [
    "  # fetch dataset \n",
    "cervical_cancer_risk_factors = fetch_ucirepo(id=383) \n",
    "  \n",
    "# data (as pandas dataframes) \n",
    "cervical = cervical_cancer_risk_factors.data.features "
   ]
  },
  {
   "cell_type": "code",
   "execution_count": 18,
   "metadata": {},
   "outputs": [],
   "source": [
    "cervical_y = cervical[\"Dx:Cancer\"]\n",
    "cervical_X = cervical.drop(columns=[\"Dx:Cancer\"])"
   ]
  },
  {
   "cell_type": "code",
   "execution_count": null,
   "metadata": {},
   "outputs": [],
   "source": [
    "X_train, X_test, y_train, y_test = train_test_split(cervical_X, cervical_y, test_size=0.2, random_state=42)\n",
    "\n",
    "model = XGBClassifier()\n",
    "\n",
    "model.fit(X_train, y_train)\n",
    "\n",
    "# TEST\n",
    "pred = model.predict(X_test)\n",
    "\n",
    "\n",
    "# AUROC, F1, PRECISSION, ACCURACY\n",
    "roc_auc = roc_auc_score(y_test, pred)\n",
    "f1 = f1_score(y_test, pred)\n",
    "precision = precision_score(y_test, pred)\n",
    "accuracy = accuracy_score(y_test, pred)\n",
    "\n",
    "print(f\"ROC_AUC: {roc_auc}\")\n",
    "print(f\"F1: {f1}\")\n",
    "print(f\"PRECISION: {precision}\")\n",
    "print(f\"ACCURACY: {accuracy}\")\n",
    "\n",
    "conf_matrix = confusion_matrix(y_test, pred)\n",
    "\n",
    "print(f\"True Positive: {conf_matrix[1][1]}\")\n",
    "print(f\"True Negative: {conf_matrix[0][0]}\")\n",
    "print(f\"False Positive: {conf_matrix[0][1]}\")\n",
    "print(f\"False Negative: {conf_matrix[1][0]}\")"
   ]
  },
  {
   "cell_type": "markdown",
   "metadata": {},
   "source": [
    "### PARKINSON"
   ]
  },
  {
   "cell_type": "code",
   "execution_count": 51,
   "metadata": {},
   "outputs": [],
   "source": [
    "# fetch dataset \n",
    "parkinsons = fetch_ucirepo(id=174) \n",
    "  \n",
    "# data (as pandas dataframes) \n",
    "parkinsons_X = parkinsons.data.features \n",
    "parkinsons_y = parkinsons.data.targets\n",
    "\n",
    "parkinsons_X = parkinsons_X.loc[:, ~parkinsons_X.columns.duplicated()]"
   ]
  },
  {
   "cell_type": "code",
   "execution_count": null,
   "metadata": {},
   "outputs": [],
   "source": [
    "X_train, X_test, y_train, y_test = train_test_split(parkinsons_X, parkinsons_y, test_size=0.2, random_state=42)\n",
    "\n",
    "model = XGBClassifier()\n",
    "\n",
    "model.fit(X_train, y_train)\n",
    "\n",
    "# TEST\n",
    "pred = model.predict(X_test)\n",
    "\n",
    "\n",
    "# AUROC, F1, PRECISSION, ACCURACY\n",
    "roc_auc = roc_auc_score(y_test, pred)\n",
    "f1 = f1_score(y_test, pred)\n",
    "precision = precision_score(y_test, pred)\n",
    "accuracy = accuracy_score(y_test, pred)\n",
    "\n",
    "print(f\"ROC_AUC: {roc_auc}\")\n",
    "print(f\"F1: {f1}\")\n",
    "print(f\"PRECISION: {precision}\")\n",
    "print(f\"ACCURACY: {accuracy}\")\n",
    "\n",
    "conf_matrix = confusion_matrix(y_test, pred)\n",
    "\n",
    "print(conf_matrix)"
   ]
  },
  {
   "cell_type": "code",
   "execution_count": null,
   "metadata": {},
   "outputs": [],
   "source": [
    "print(y_train.dtypes)"
   ]
  },
  {
   "cell_type": "markdown",
   "metadata": {},
   "source": [
    "### RETINOPATHY"
   ]
  },
  {
   "cell_type": "code",
   "execution_count": 57,
   "metadata": {},
   "outputs": [],
   "source": [
    "# fetch dataset \n",
    "diabetic_retinopathy_debrecen = fetch_ucirepo(id=329) \n",
    "  \n",
    "# data (as pandas dataframes) \n",
    "retinopathy_X = diabetic_retinopathy_debrecen.data.features \n",
    "retinopathy_y = diabetic_retinopathy_debrecen.data.targets \n"
   ]
  },
  {
   "cell_type": "code",
   "execution_count": 73,
   "metadata": {},
   "outputs": [],
   "source": [
    "retinopathy_X = retinopathy_X.loc[:, ~retinopathy_X.columns.duplicated()]"
   ]
  },
  {
   "cell_type": "code",
   "execution_count": null,
   "metadata": {},
   "outputs": [],
   "source": [
    "retinopathy_y.value_counts()"
   ]
  },
  {
   "cell_type": "code",
   "execution_count": null,
   "metadata": {},
   "outputs": [],
   "source": [
    "X_train, X_test, y_train, y_test = train_test_split(retinopathy_X, retinopathy_y, test_size=0.2, random_state=42)\n",
    "\n",
    "model = XGBClassifier()\n",
    "\n",
    "model.fit(X_train, y_train)\n",
    "\n",
    "# TEST\n",
    "\n",
    "pred = model.predict(X_test)\n",
    "\n",
    "# AUROC, F1, PRECISSION, ACCURACY\n",
    "\n",
    "roc_auc = roc_auc_score(y_test, pred)\n",
    "f1 = f1_score(y_test, pred)\n",
    "precision = precision_score(y_test, pred)\n",
    "accuracy = accuracy_score(y_test, pred)\n",
    "\n",
    "print(f\"ROC_AUC: {roc_auc}\")\n",
    "print(f\"F1: {f1}\")\n",
    "print(f\"PRECISION: {precision}\")\n",
    "print(f\"ACCURACY: {accuracy}\")\n",
    "\n",
    "conf_matrix = confusion_matrix(y_test, pred)\n",
    "\n",
    "print(conf_matrix)"
   ]
  },
  {
   "cell_type": "markdown",
   "metadata": {},
   "source": [
    "### BREAST CANCER"
   ]
  },
  {
   "cell_type": "code",
   "execution_count": 49,
   "metadata": {},
   "outputs": [],
   "source": [
    "# fetch dataset \n",
    "breast_cancer_wisconsin_diagnostic = fetch_ucirepo(id=17) \n",
    "  \n",
    "# data (as pandas dataframes) \n",
    "breast_X = breast_cancer_wisconsin_diagnostic.data.features \n",
    "breast_Y = breast_cancer_wisconsin_diagnostic.data.targets "
   ]
  },
  {
   "cell_type": "code",
   "execution_count": 82,
   "metadata": {},
   "outputs": [],
   "source": [
    "pd.set_option('display.max_rows', None)\n",
    "full_data = pd.concat([breast_X, breast_Y], axis=1)\n",
    "d = full_data[[\"concave_points1\", \"perimeter3\", \"concave_points3\", \"Diagnosis\"]]"
   ]
  },
  {
   "cell_type": "code",
   "execution_count": null,
   "metadata": {},
   "outputs": [],
   "source": [
    "import seaborn as sns\n",
    "\n",
    "sns.heatmap(d.corr(), annot=True)"
   ]
  },
  {
   "cell_type": "code",
   "execution_count": null,
   "metadata": {},
   "outputs": [],
   "source": [
    "# imbalance in breast_Y\n",
    "\n",
    "breast_Y.replace({'M': 1, 'B': 0}, inplace=True)\n",
    "\n",
    "print(breast_Y.value_counts())"
   ]
  },
  {
   "cell_type": "code",
   "execution_count": null,
   "metadata": {},
   "outputs": [],
   "source": [
    "X_train, X_test, y_train, y_test = train_test_split(breast_X, breast_Y, test_size=0.2, random_state=42)\n",
    "\n",
    "model = XGBClassifier()\n",
    "\n",
    "model.fit(X_train, y_train)\n",
    "\n",
    "# TEST\n",
    "\n",
    "pred = model.predict(X_test)\n",
    "\n",
    "\n",
    "# AUROC, F1, PRECISSION, ACCURACY\n",
    "\n",
    "roc_auc = roc_auc_score(y_test, pred)\n",
    "f1 = f1_score(y_test, pred)\n",
    "precision = precision_score(y_test, pred)\n",
    "accuracy = accuracy_score(y_test, pred)\n",
    "\n",
    "print(f\"ROC_AUC: {roc_auc}\")\n",
    "print(f\"F1: {f1}\")\n",
    "print(f\"PRECISION: {precision}\")\n",
    "print(f\"ACCURACY: {accuracy}\")\n",
    "\n",
    "conf_matrix = confusion_matrix(y_test, pred)\n",
    "\n",
    "print(conf_matrix)"
   ]
  },
  {
   "cell_type": "code",
   "execution_count": null,
   "metadata": {},
   "outputs": [],
   "source": [
    "from matplotlib import pyplot as plt\n",
    "\n",
    "# Get feature importance\n",
    "importance = model.feature_importances_\n",
    "\n",
    "# If you have feature names\n",
    "feature_names = X_train.columns  # If X_train is a DataFrame\n",
    "\n",
    "# Sort feature importances in descending order and create a DataFrame\n",
    "importance_df = pd.DataFrame({\n",
    "    'Feature': feature_names,\n",
    "    'Importance': importance\n",
    "}).sort_values(by='Importance', ascending=False)\n",
    "\n",
    "# Optionally, you can plot the feature importances\n",
    "plt.figure(figsize=(10, 6))\n",
    "plt.barh(importance_df['Feature'], importance_df['Importance'])\n",
    "plt.gca().invert_yaxis()  # To have the most important at the top\n",
    "plt.title('Feature Importance from XGBoost')\n",
    "plt.xlabel('Importance')\n",
    "plt.show()"
   ]
  },
  {
   "cell_type": "markdown",
   "metadata": {},
   "source": [
    "### OBESITY"
   ]
  },
  {
   "cell_type": "code",
   "execution_count": 122,
   "metadata": {},
   "outputs": [],
   "source": [
    "# fetch dataset \n",
    "estimation_of_obesity_levels_based_on_eating_habits_and_physical_condition = fetch_ucirepo(id=544) \n",
    "  \n",
    "# data (as pandas dataframes) \n",
    "obesity_X = estimation_of_obesity_levels_based_on_eating_habits_and_physical_condition.data.features \n",
    "obesity_y = estimation_of_obesity_levels_based_on_eating_habits_and_physical_condition.data.targets \n",
    "\n",
    "obesity_y = y.replace({\"Insufficient_Weight\": 0, \"Normal_Weight\": 1, \"Overweight_Level_I\": 2, \"Overweight_Level_II\": 3, \"Obesity_Type_I\": 4, \"Obesity_Type_II\": 5, \"Obesity_Type_III\": 6})"
   ]
  }
 ],
 "metadata": {
  "kernelspec": {
   "display_name": "sever_hypo",
   "language": "python",
   "name": "python3"
  },
  "language_info": {
   "codemirror_mode": {
    "name": "ipython",
    "version": 3
   },
   "file_extension": ".py",
   "mimetype": "text/x-python",
   "name": "python",
   "nbconvert_exporter": "python",
   "pygments_lexer": "ipython3",
   "version": "3.12.4"
  }
 },
 "nbformat": 4,
 "nbformat_minor": 2
}
